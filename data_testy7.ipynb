{
 "metadata": {
  "language_info": {
   "codemirror_mode": {
    "name": "ipython",
    "version": 3
   },
   "file_extension": ".py",
   "mimetype": "text/x-python",
   "name": "python",
   "nbconvert_exporter": "python",
   "pygments_lexer": "ipython3",
   "version": "3.7.7"
  },
  "orig_nbformat": 4,
  "kernelspec": {
   "name": "python3",
   "display_name": "Python 3.7.7 64-bit ('python')"
  },
  "interpreter": {
   "hash": "df955ce39d0f31d56d4bb2fe0a613e5326ba60723fd33d8303a3aede8f65715c"
  }
 },
 "nbformat": 4,
 "nbformat_minor": 2,
 "cells": [
  {
   "cell_type": "code",
   "execution_count": 40,
   "metadata": {},
   "outputs": [
    {
     "output_type": "execute_result",
     "data": {
      "text/plain": [
       "   用户编号  文章类别    阅读数   看一看    点赞   赞赏  被转载       访问日期\n",
       "0     1  数据分析  20051  1203  2406   80  601  2020/9/21\n",
       "1     2  数据分析  11690   584  1519   46  233  2020/9/17\n",
       "2     3  数据分析   5720   400   572   45  228   2020/9/2\n",
       "3     4  数据分析  22502  1125  3150   45  900  2020/9/24\n",
       "4     5  数据分析  11201   560  1344   89  448   2020/9/8\n",
       "5     6  数据分析   5834   233   816   35  116  2020/9/21\n",
       "6     7  数据分析  12088   846  1692   12  483  2020/9/24\n",
       "7     8  数据分析  25402  1778  3556  228  508   2020/9/2\n",
       "8     9  数据分析   5815   407   814    5  116  2020/9/26\n",
       "9    10  数据分析  10369   518   933   41  207  2020/9/17"
      ],
      "text/html": "<div>\n<style scoped>\n    .dataframe tbody tr th:only-of-type {\n        vertical-align: middle;\n    }\n\n    .dataframe tbody tr th {\n        vertical-align: top;\n    }\n\n    .dataframe thead th {\n        text-align: right;\n    }\n</style>\n<table border=\"1\" class=\"dataframe\">\n  <thead>\n    <tr style=\"text-align: right;\">\n      <th></th>\n      <th>用户编号</th>\n      <th>文章类别</th>\n      <th>阅读数</th>\n      <th>看一看</th>\n      <th>点赞</th>\n      <th>赞赏</th>\n      <th>被转载</th>\n      <th>访问日期</th>\n    </tr>\n  </thead>\n  <tbody>\n    <tr>\n      <th>0</th>\n      <td>1</td>\n      <td>数据分析</td>\n      <td>20051</td>\n      <td>1203</td>\n      <td>2406</td>\n      <td>80</td>\n      <td>601</td>\n      <td>2020/9/21</td>\n    </tr>\n    <tr>\n      <th>1</th>\n      <td>2</td>\n      <td>数据分析</td>\n      <td>11690</td>\n      <td>584</td>\n      <td>1519</td>\n      <td>46</td>\n      <td>233</td>\n      <td>2020/9/17</td>\n    </tr>\n    <tr>\n      <th>2</th>\n      <td>3</td>\n      <td>数据分析</td>\n      <td>5720</td>\n      <td>400</td>\n      <td>572</td>\n      <td>45</td>\n      <td>228</td>\n      <td>2020/9/2</td>\n    </tr>\n    <tr>\n      <th>3</th>\n      <td>4</td>\n      <td>数据分析</td>\n      <td>22502</td>\n      <td>1125</td>\n      <td>3150</td>\n      <td>45</td>\n      <td>900</td>\n      <td>2020/9/24</td>\n    </tr>\n    <tr>\n      <th>4</th>\n      <td>5</td>\n      <td>数据分析</td>\n      <td>11201</td>\n      <td>560</td>\n      <td>1344</td>\n      <td>89</td>\n      <td>448</td>\n      <td>2020/9/8</td>\n    </tr>\n    <tr>\n      <th>5</th>\n      <td>6</td>\n      <td>数据分析</td>\n      <td>5834</td>\n      <td>233</td>\n      <td>816</td>\n      <td>35</td>\n      <td>116</td>\n      <td>2020/9/21</td>\n    </tr>\n    <tr>\n      <th>6</th>\n      <td>7</td>\n      <td>数据分析</td>\n      <td>12088</td>\n      <td>846</td>\n      <td>1692</td>\n      <td>12</td>\n      <td>483</td>\n      <td>2020/9/24</td>\n    </tr>\n    <tr>\n      <th>7</th>\n      <td>8</td>\n      <td>数据分析</td>\n      <td>25402</td>\n      <td>1778</td>\n      <td>3556</td>\n      <td>228</td>\n      <td>508</td>\n      <td>2020/9/2</td>\n    </tr>\n    <tr>\n      <th>8</th>\n      <td>9</td>\n      <td>数据分析</td>\n      <td>5815</td>\n      <td>407</td>\n      <td>814</td>\n      <td>5</td>\n      <td>116</td>\n      <td>2020/9/26</td>\n    </tr>\n    <tr>\n      <th>9</th>\n      <td>10</td>\n      <td>数据分析</td>\n      <td>10369</td>\n      <td>518</td>\n      <td>933</td>\n      <td>41</td>\n      <td>207</td>\n      <td>2020/9/17</td>\n    </tr>\n  </tbody>\n</table>\n</div>"
     },
     "metadata": {},
     "execution_count": 40
    }
   ],
   "source": [
    "import pandas as pd\n",
    "\n",
    "user_data = pd.read_csv('./data-7/公众号用户访问数据.csv', encoding='gbk')\n",
    "user_data.head(10)\n"
   ]
  },
  {
   "cell_type": "code",
   "execution_count": 41,
   "metadata": {},
   "outputs": [
    {
     "output_type": "execute_result",
     "data": {
      "text/plain": [
       "     用户编号        文章类别       访问日期\n",
       "0       1        数据分析  2020/9/21\n",
       "1       2        数据分析  2020/9/17\n",
       "2       3        数据分析   2020/9/2\n",
       "3       4        数据分析  2020/9/24\n",
       "4       5        数据分析   2020/9/8\n",
       "..    ...         ...        ...\n",
       "194    98      pandas  2020/9/20\n",
       "195    98      pandas  2020/9/20\n",
       "196    99        数据分析  2020/9/23\n",
       "197    99      pandas  2020/9/23\n",
       "198    99  matplotlib  2020/9/23\n",
       "\n",
       "[199 rows x 3 columns]"
      ],
      "text/html": "<div>\n<style scoped>\n    .dataframe tbody tr th:only-of-type {\n        vertical-align: middle;\n    }\n\n    .dataframe tbody tr th {\n        vertical-align: top;\n    }\n\n    .dataframe thead th {\n        text-align: right;\n    }\n</style>\n<table border=\"1\" class=\"dataframe\">\n  <thead>\n    <tr style=\"text-align: right;\">\n      <th></th>\n      <th>用户编号</th>\n      <th>文章类别</th>\n      <th>访问日期</th>\n    </tr>\n  </thead>\n  <tbody>\n    <tr>\n      <th>0</th>\n      <td>1</td>\n      <td>数据分析</td>\n      <td>2020/9/21</td>\n    </tr>\n    <tr>\n      <th>1</th>\n      <td>2</td>\n      <td>数据分析</td>\n      <td>2020/9/17</td>\n    </tr>\n    <tr>\n      <th>2</th>\n      <td>3</td>\n      <td>数据分析</td>\n      <td>2020/9/2</td>\n    </tr>\n    <tr>\n      <th>3</th>\n      <td>4</td>\n      <td>数据分析</td>\n      <td>2020/9/24</td>\n    </tr>\n    <tr>\n      <th>4</th>\n      <td>5</td>\n      <td>数据分析</td>\n      <td>2020/9/8</td>\n    </tr>\n    <tr>\n      <th>...</th>\n      <td>...</td>\n      <td>...</td>\n      <td>...</td>\n    </tr>\n    <tr>\n      <th>194</th>\n      <td>98</td>\n      <td>pandas</td>\n      <td>2020/9/20</td>\n    </tr>\n    <tr>\n      <th>195</th>\n      <td>98</td>\n      <td>pandas</td>\n      <td>2020/9/20</td>\n    </tr>\n    <tr>\n      <th>196</th>\n      <td>99</td>\n      <td>数据分析</td>\n      <td>2020/9/23</td>\n    </tr>\n    <tr>\n      <th>197</th>\n      <td>99</td>\n      <td>pandas</td>\n      <td>2020/9/23</td>\n    </tr>\n    <tr>\n      <th>198</th>\n      <td>99</td>\n      <td>matplotlib</td>\n      <td>2020/9/23</td>\n    </tr>\n  </tbody>\n</table>\n<p>199 rows × 3 columns</p>\n</div>"
     },
     "metadata": {},
     "execution_count": 41
    }
   ],
   "source": [
    "# 1. 提取列数据\n",
    "# 提取列数据（'用户编号', '文章类别', '访问日期'），并进行赋值\n",
    "analysis_data = user_data[['用户编号', '文章类别', '访问日期']]\n",
    "# 查看提取的数据\n",
    "analysis_data\n"
   ]
  },
  {
   "cell_type": "code",
   "execution_count": 42,
   "metadata": {},
   "outputs": [
    {
     "output_type": "execute_result",
     "data": {
      "text/plain": [
       "     用户编号        文章类别       访问日期\n",
       "0       1        数据分析  2020/9/21\n",
       "1       2        数据分析  2020/9/17\n",
       "2       3        数据分析   2020/9/2\n",
       "3       4        数据分析  2020/9/24\n",
       "4       5        数据分析   2020/9/8\n",
       "..    ...         ...        ...\n",
       "193    98        数据分析  2020/9/20\n",
       "194    98      pandas  2020/9/20\n",
       "196    99        数据分析  2020/9/23\n",
       "197    99      pandas  2020/9/23\n",
       "198    99  matplotlib  2020/9/23\n",
       "\n",
       "[192 rows x 3 columns]"
      ],
      "text/html": "<div>\n<style scoped>\n    .dataframe tbody tr th:only-of-type {\n        vertical-align: middle;\n    }\n\n    .dataframe tbody tr th {\n        vertical-align: top;\n    }\n\n    .dataframe thead th {\n        text-align: right;\n    }\n</style>\n<table border=\"1\" class=\"dataframe\">\n  <thead>\n    <tr style=\"text-align: right;\">\n      <th></th>\n      <th>用户编号</th>\n      <th>文章类别</th>\n      <th>访问日期</th>\n    </tr>\n  </thead>\n  <tbody>\n    <tr>\n      <th>0</th>\n      <td>1</td>\n      <td>数据分析</td>\n      <td>2020/9/21</td>\n    </tr>\n    <tr>\n      <th>1</th>\n      <td>2</td>\n      <td>数据分析</td>\n      <td>2020/9/17</td>\n    </tr>\n    <tr>\n      <th>2</th>\n      <td>3</td>\n      <td>数据分析</td>\n      <td>2020/9/2</td>\n    </tr>\n    <tr>\n      <th>3</th>\n      <td>4</td>\n      <td>数据分析</td>\n      <td>2020/9/24</td>\n    </tr>\n    <tr>\n      <th>4</th>\n      <td>5</td>\n      <td>数据分析</td>\n      <td>2020/9/8</td>\n    </tr>\n    <tr>\n      <th>...</th>\n      <td>...</td>\n      <td>...</td>\n      <td>...</td>\n    </tr>\n    <tr>\n      <th>193</th>\n      <td>98</td>\n      <td>数据分析</td>\n      <td>2020/9/20</td>\n    </tr>\n    <tr>\n      <th>194</th>\n      <td>98</td>\n      <td>pandas</td>\n      <td>2020/9/20</td>\n    </tr>\n    <tr>\n      <th>196</th>\n      <td>99</td>\n      <td>数据分析</td>\n      <td>2020/9/23</td>\n    </tr>\n    <tr>\n      <th>197</th>\n      <td>99</td>\n      <td>pandas</td>\n      <td>2020/9/23</td>\n    </tr>\n    <tr>\n      <th>198</th>\n      <td>99</td>\n      <td>matplotlib</td>\n      <td>2020/9/23</td>\n    </tr>\n  </tbody>\n</table>\n<p>192 rows × 3 columns</p>\n</div>"
     },
     "metadata": {},
     "execution_count": 42
    }
   ],
   "source": [
    "# 2. 数据去重\n",
    "# 查看提取数据后的重复数据\n",
    "analysis_data[analysis_data.duplicated()]\n",
    "# 去除重复数据\n",
    "analysis_data = analysis_data.drop_duplicates()\n",
    "analysis_data"
   ]
  },
  {
   "cell_type": "code",
   "execution_count": 50,
   "metadata": {},
   "outputs": [
    {
     "output_type": "stream",
     "name": "stderr",
     "text": [
      "/usr/local/lib/python3.7/site-packages/pandas/core/frame.py:3607: SettingWithCopyWarning: \nA value is trying to be set on a copy of a slice from a DataFrame.\nTry using .loc[row_indexer,col_indexer] = value instead\n\nSee the caveats in the documentation: https://pandas.pydata.org/pandas-docs/stable/user_guide/indexing.html#returning-a-view-versus-a-copy\n  self._set_item(key, value)\n"
     ]
    },
    {
     "output_type": "execute_result",
     "data": {
      "text/plain": [
       "     用户编号          文章类别       访问日期\n",
       "0       1        [数据分析]  2020/9/21\n",
       "1       2        [数据分析]  2020/9/17\n",
       "2       3        [数据分析]   2020/9/2\n",
       "3       4        [数据分析]  2020/9/24\n",
       "4       5        [数据分析]   2020/9/8\n",
       "..    ...           ...        ...\n",
       "193    98        [数据分析]  2020/9/20\n",
       "194    98      [pandas]  2020/9/20\n",
       "196    99        [数据分析]  2020/9/23\n",
       "197    99      [pandas]  2020/9/23\n",
       "198    99  [matplotlib]  2020/9/23\n",
       "\n",
       "[192 rows x 3 columns]"
      ],
      "text/html": "<div>\n<style scoped>\n    .dataframe tbody tr th:only-of-type {\n        vertical-align: middle;\n    }\n\n    .dataframe tbody tr th {\n        vertical-align: top;\n    }\n\n    .dataframe thead th {\n        text-align: right;\n    }\n</style>\n<table border=\"1\" class=\"dataframe\">\n  <thead>\n    <tr style=\"text-align: right;\">\n      <th></th>\n      <th>用户编号</th>\n      <th>文章类别</th>\n      <th>访问日期</th>\n    </tr>\n  </thead>\n  <tbody>\n    <tr>\n      <th>0</th>\n      <td>1</td>\n      <td>[数据分析]</td>\n      <td>2020/9/21</td>\n    </tr>\n    <tr>\n      <th>1</th>\n      <td>2</td>\n      <td>[数据分析]</td>\n      <td>2020/9/17</td>\n    </tr>\n    <tr>\n      <th>2</th>\n      <td>3</td>\n      <td>[数据分析]</td>\n      <td>2020/9/2</td>\n    </tr>\n    <tr>\n      <th>3</th>\n      <td>4</td>\n      <td>[数据分析]</td>\n      <td>2020/9/24</td>\n    </tr>\n    <tr>\n      <th>4</th>\n      <td>5</td>\n      <td>[数据分析]</td>\n      <td>2020/9/8</td>\n    </tr>\n    <tr>\n      <th>...</th>\n      <td>...</td>\n      <td>...</td>\n      <td>...</td>\n    </tr>\n    <tr>\n      <th>193</th>\n      <td>98</td>\n      <td>[数据分析]</td>\n      <td>2020/9/20</td>\n    </tr>\n    <tr>\n      <th>194</th>\n      <td>98</td>\n      <td>[pandas]</td>\n      <td>2020/9/20</td>\n    </tr>\n    <tr>\n      <th>196</th>\n      <td>99</td>\n      <td>[数据分析]</td>\n      <td>2020/9/23</td>\n    </tr>\n    <tr>\n      <th>197</th>\n      <td>99</td>\n      <td>[pandas]</td>\n      <td>2020/9/23</td>\n    </tr>\n    <tr>\n      <th>198</th>\n      <td>99</td>\n      <td>[matplotlib]</td>\n      <td>2020/9/23</td>\n    </tr>\n  </tbody>\n</table>\n<p>192 rows × 3 columns</p>\n</div>"
     },
     "metadata": {},
     "execution_count": 50
    }
   ],
   "source": [
    "# 3. 批量转换数据类型\n",
    "# 定义“格式转换”函数\n",
    "def conversion_data(category):\n",
    "\n",
    "    # 判断文章类别是否已经转成了列表格式\n",
    "    if str(category)[0] == '[':\n",
    "        # 直接返回文章类别\n",
    "        return category\n",
    "    # 返回转成列表格式后的文章类别\n",
    "    return [category]\n",
    "\n",
    "\n",
    "# 获取'文章类别'列，调用 agg() 方法\n",
    "analysis_data['文章类别'] = analysis_data['文章类别'].agg(conversion_data)\n",
    "# 查看处理后的数据\n",
    "analysis_data"
   ]
  },
  {
   "cell_type": "code",
   "execution_count": 65,
   "metadata": {},
   "outputs": [
    {
     "output_type": "execute_result",
     "data": {
      "text/plain": [
       "<pandas.core.groupby.generic.SeriesGroupBy object at 0x12f8e4550>"
      ]
     },
     "metadata": {},
     "execution_count": 65
    }
   ],
   "source": [
    "# 4. 分组聚合\n",
    "# 根据'访问日期'和'用户编号'进行分组，并聚合'文章类别'列\n",
    "adjusted_data = analysis_data.groupby(['访问日期', '用户编号'])['文章类别'].sum()\n",
    "# 查看整理后的数据\n",
    "adjusted_data"
   ]
  },
  {
   "cell_type": "code",
   "execution_count": null,
   "metadata": {},
   "outputs": [],
   "source": []
  }
 ]
}