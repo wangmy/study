{
 "metadata": {
  "language_info": {
   "codemirror_mode": {
    "name": "ipython",
    "version": 3
   },
   "file_extension": ".py",
   "mimetype": "text/x-python",
   "name": "python",
   "nbconvert_exporter": "python",
   "pygments_lexer": "ipython3",
   "version": "3.7.7"
  },
  "orig_nbformat": 4,
  "kernelspec": {
   "name": "python3",
   "display_name": "Python 3.7.7 64-bit ('python')"
  },
  "interpreter": {
   "hash": "df955ce39d0f31d56d4bb2fe0a613e5326ba60723fd33d8303a3aede8f65715c"
  }
 },
 "nbformat": 4,
 "nbformat_minor": 2,
 "cells": [
  {
   "cell_type": "code",
   "execution_count": 1,
   "metadata": {},
   "outputs": [
    {
     "output_type": "execute_result",
     "data": {
      "text/plain": [
       "   年龄  岗位  年购买量\n",
       "0  23  客服    10\n",
       "1  22  运营    15\n",
       "2  21  公关     8"
      ],
      "text/html": "<div>\n<style scoped>\n    .dataframe tbody tr th:only-of-type {\n        vertical-align: middle;\n    }\n\n    .dataframe tbody tr th {\n        vertical-align: top;\n    }\n\n    .dataframe thead th {\n        text-align: right;\n    }\n</style>\n<table border=\"1\" class=\"dataframe\">\n  <thead>\n    <tr style=\"text-align: right;\">\n      <th></th>\n      <th>年龄</th>\n      <th>岗位</th>\n      <th>年购买量</th>\n    </tr>\n  </thead>\n  <tbody>\n    <tr>\n      <th>0</th>\n      <td>23</td>\n      <td>客服</td>\n      <td>10</td>\n    </tr>\n    <tr>\n      <th>1</th>\n      <td>22</td>\n      <td>运营</td>\n      <td>15</td>\n    </tr>\n    <tr>\n      <th>2</th>\n      <td>21</td>\n      <td>公关</td>\n      <td>8</td>\n    </tr>\n  </tbody>\n</table>\n</div>"
     },
     "metadata": {},
     "execution_count": 1
    }
   ],
   "source": [
    "import pandas as pd\n",
    "dict1 = {'年龄': [23, 22, 21], '岗位': ['客服', '运营', '公关'], '年购买量': [10, 15, 8]}\n",
    "job_df = pd.DataFrame(dict1)\n",
    "job_df"
   ]
  },
  {
   "cell_type": "code",
   "execution_count": 3,
   "metadata": {},
   "outputs": [
    {
     "output_type": "execute_result",
     "data": {
      "text/plain": [
       "      0       1     2      3\n",
       "0   巧克力  77.675   47箱  广东佛山仓\n",
       "1    牛奶  58.755   40箱  广东揭阳仓\n",
       "2  威化饼干   7.385  285盒  广西南宁仓\n",
       "3   火腿肠  34.823   20件  广西柳州仓\n",
       "4   巧克力  62.648   30箱  广东揭阳仓\n",
       "5    牛奶  45.750   12箱  广西柳州仓\n",
       "6  威化饼干   5.235  148盒  广东佛山仓\n",
       "7   火腿肠  33.736   28件  广东佛山仓"
      ],
      "text/html": "<div>\n<style scoped>\n    .dataframe tbody tr th:only-of-type {\n        vertical-align: middle;\n    }\n\n    .dataframe tbody tr th {\n        vertical-align: top;\n    }\n\n    .dataframe thead th {\n        text-align: right;\n    }\n</style>\n<table border=\"1\" class=\"dataframe\">\n  <thead>\n    <tr style=\"text-align: right;\">\n      <th></th>\n      <th>0</th>\n      <th>1</th>\n      <th>2</th>\n      <th>3</th>\n    </tr>\n  </thead>\n  <tbody>\n    <tr>\n      <th>0</th>\n      <td>巧克力</td>\n      <td>77.675</td>\n      <td>47箱</td>\n      <td>广东佛山仓</td>\n    </tr>\n    <tr>\n      <th>1</th>\n      <td>牛奶</td>\n      <td>58.755</td>\n      <td>40箱</td>\n      <td>广东揭阳仓</td>\n    </tr>\n    <tr>\n      <th>2</th>\n      <td>威化饼干</td>\n      <td>7.385</td>\n      <td>285盒</td>\n      <td>广西南宁仓</td>\n    </tr>\n    <tr>\n      <th>3</th>\n      <td>火腿肠</td>\n      <td>34.823</td>\n      <td>20件</td>\n      <td>广西柳州仓</td>\n    </tr>\n    <tr>\n      <th>4</th>\n      <td>巧克力</td>\n      <td>62.648</td>\n      <td>30箱</td>\n      <td>广东揭阳仓</td>\n    </tr>\n    <tr>\n      <th>5</th>\n      <td>牛奶</td>\n      <td>45.750</td>\n      <td>12箱</td>\n      <td>广西柳州仓</td>\n    </tr>\n    <tr>\n      <th>6</th>\n      <td>威化饼干</td>\n      <td>5.235</td>\n      <td>148盒</td>\n      <td>广东佛山仓</td>\n    </tr>\n    <tr>\n      <th>7</th>\n      <td>火腿肠</td>\n      <td>33.736</td>\n      <td>28件</td>\n      <td>广东佛山仓</td>\n    </tr>\n  </tbody>\n</table>\n</div>"
     },
     "metadata": {},
     "execution_count": 3
    }
   ],
   "source": [
    "# \n",
    "goods_info = [\n",
    "    ['巧克力', 77.675, '47箱', '广东佛山仓'],\n",
    "    ['牛奶', 58.755, '40箱', '广东揭阳仓'],\n",
    "    ['威化饼干', 7.385, '285盒', '广西南宁仓'],\n",
    "    ['火腿肠', 34.823, '20件', '广西柳州仓'],\n",
    "    ['巧克力', 62.648, '30箱', '广东揭阳仓'],\n",
    "    ['牛奶', 45.75, '12箱', '广西柳州仓'],\n",
    "    ['威化饼干', 5.235, '148盒', '广东佛山仓'],\n",
    "    ['火腿肠', 33.736, '28件', '广东佛山仓']\n",
    "]\n",
    "goods_df = pd.DataFrame(goods_info)\n",
    "goods_df"
   ]
  },
  {
   "cell_type": "code",
   "execution_count": 4,
   "metadata": {},
   "outputs": [
    {
     "output_type": "execute_result",
     "data": {
      "text/plain": [
       "     名称      单价    库存     地址\n",
       "0   巧克力  77.675   47箱  广东佛山仓\n",
       "1    牛奶  58.755   40箱  广东揭阳仓\n",
       "2  威化饼干   7.385  285盒  广西南宁仓\n",
       "3   火腿肠  34.823   20件  广西柳州仓\n",
       "4   巧克力  62.648   30箱  广东揭阳仓\n",
       "5    牛奶  45.750   12箱  广西柳州仓\n",
       "6  威化饼干   5.235  148盒  广东佛山仓\n",
       "7   火腿肠  33.736   28件  广东佛山仓"
      ],
      "text/html": "<div>\n<style scoped>\n    .dataframe tbody tr th:only-of-type {\n        vertical-align: middle;\n    }\n\n    .dataframe tbody tr th {\n        vertical-align: top;\n    }\n\n    .dataframe thead th {\n        text-align: right;\n    }\n</style>\n<table border=\"1\" class=\"dataframe\">\n  <thead>\n    <tr style=\"text-align: right;\">\n      <th></th>\n      <th>名称</th>\n      <th>单价</th>\n      <th>库存</th>\n      <th>地址</th>\n    </tr>\n  </thead>\n  <tbody>\n    <tr>\n      <th>0</th>\n      <td>巧克力</td>\n      <td>77.675</td>\n      <td>47箱</td>\n      <td>广东佛山仓</td>\n    </tr>\n    <tr>\n      <th>1</th>\n      <td>牛奶</td>\n      <td>58.755</td>\n      <td>40箱</td>\n      <td>广东揭阳仓</td>\n    </tr>\n    <tr>\n      <th>2</th>\n      <td>威化饼干</td>\n      <td>7.385</td>\n      <td>285盒</td>\n      <td>广西南宁仓</td>\n    </tr>\n    <tr>\n      <th>3</th>\n      <td>火腿肠</td>\n      <td>34.823</td>\n      <td>20件</td>\n      <td>广西柳州仓</td>\n    </tr>\n    <tr>\n      <th>4</th>\n      <td>巧克力</td>\n      <td>62.648</td>\n      <td>30箱</td>\n      <td>广东揭阳仓</td>\n    </tr>\n    <tr>\n      <th>5</th>\n      <td>牛奶</td>\n      <td>45.750</td>\n      <td>12箱</td>\n      <td>广西柳州仓</td>\n    </tr>\n    <tr>\n      <th>6</th>\n      <td>威化饼干</td>\n      <td>5.235</td>\n      <td>148盒</td>\n      <td>广东佛山仓</td>\n    </tr>\n    <tr>\n      <th>7</th>\n      <td>火腿肠</td>\n      <td>33.736</td>\n      <td>28件</td>\n      <td>广东佛山仓</td>\n    </tr>\n  </tbody>\n</table>\n</div>"
     },
     "metadata": {},
     "execution_count": 4
    }
   ],
   "source": [
    "newgoods_df = pd.DataFrame(goods_info, columns=['名称', '单价', '库存', '地址'])\n",
    "newgoods_df"
   ]
  },
  {
   "cell_type": "code",
   "execution_count": 5,
   "metadata": {},
   "outputs": [
    {
     "output_type": "execute_result",
     "data": {
      "text/plain": [
       "   姓名  科目  分数\n",
       "0  小蓝  语文  79\n",
       "1  小邱  数学  83\n",
       "2  小李  英语  92"
      ],
      "text/html": "<div>\n<style scoped>\n    .dataframe tbody tr th:only-of-type {\n        vertical-align: middle;\n    }\n\n    .dataframe tbody tr th {\n        vertical-align: top;\n    }\n\n    .dataframe thead th {\n        text-align: right;\n    }\n</style>\n<table border=\"1\" class=\"dataframe\">\n  <thead>\n    <tr style=\"text-align: right;\">\n      <th></th>\n      <th>姓名</th>\n      <th>科目</th>\n      <th>分数</th>\n    </tr>\n  </thead>\n  <tbody>\n    <tr>\n      <th>0</th>\n      <td>小蓝</td>\n      <td>语文</td>\n      <td>79</td>\n    </tr>\n    <tr>\n      <th>1</th>\n      <td>小邱</td>\n      <td>数学</td>\n      <td>83</td>\n    </tr>\n    <tr>\n      <th>2</th>\n      <td>小李</td>\n      <td>英语</td>\n      <td>92</td>\n    </tr>\n  </tbody>\n</table>\n</div>"
     },
     "metadata": {},
     "execution_count": 5
    }
   ],
   "source": [
    "students_info = [['小蓝', '语文', '79'],\n",
    "                ['小邱', '数学', '83'],\n",
    "                ['小李', '英语', '92']]\n",
    "\n",
    "# 使用列表创建 DataFrame 对象，同时设置列名\n",
    "students_df =pd.DataFrame(students_info, columns=['姓名','科目','分数'])\n",
    "students_df"
   ]
  },
  {
   "cell_type": "code",
   "execution_count": 6,
   "metadata": {},
   "outputs": [
    {
     "output_type": "execute_result",
     "data": {
      "text/plain": [
       "     名称      单价    库存     地址\n",
       "0   巧克力  77.675   47箱  广东佛山仓\n",
       "1    牛奶  58.755   40箱  广东揭阳仓\n",
       "2  威化饼干   7.385  285盒  广西南宁仓\n",
       "3   火腿肠  34.823   20件  广西柳州仓\n",
       "4   巧克力  62.648   30箱  广东揭阳仓\n",
       "5    牛奶  45.750   12箱  广西柳州仓\n",
       "6  威化饼干   5.235  148盒  广东佛山仓\n",
       "7   火腿肠  33.736   28件  广东佛山仓"
      ],
      "text/html": "<div>\n<style scoped>\n    .dataframe tbody tr th:only-of-type {\n        vertical-align: middle;\n    }\n\n    .dataframe tbody tr th {\n        vertical-align: top;\n    }\n\n    .dataframe thead th {\n        text-align: right;\n    }\n</style>\n<table border=\"1\" class=\"dataframe\">\n  <thead>\n    <tr style=\"text-align: right;\">\n      <th></th>\n      <th>名称</th>\n      <th>单价</th>\n      <th>库存</th>\n      <th>地址</th>\n    </tr>\n  </thead>\n  <tbody>\n    <tr>\n      <th>0</th>\n      <td>巧克力</td>\n      <td>77.675</td>\n      <td>47箱</td>\n      <td>广东佛山仓</td>\n    </tr>\n    <tr>\n      <th>1</th>\n      <td>牛奶</td>\n      <td>58.755</td>\n      <td>40箱</td>\n      <td>广东揭阳仓</td>\n    </tr>\n    <tr>\n      <th>2</th>\n      <td>威化饼干</td>\n      <td>7.385</td>\n      <td>285盒</td>\n      <td>广西南宁仓</td>\n    </tr>\n    <tr>\n      <th>3</th>\n      <td>火腿肠</td>\n      <td>34.823</td>\n      <td>20件</td>\n      <td>广西柳州仓</td>\n    </tr>\n    <tr>\n      <th>4</th>\n      <td>巧克力</td>\n      <td>62.648</td>\n      <td>30箱</td>\n      <td>广东揭阳仓</td>\n    </tr>\n    <tr>\n      <th>5</th>\n      <td>牛奶</td>\n      <td>45.750</td>\n      <td>12箱</td>\n      <td>广西柳州仓</td>\n    </tr>\n    <tr>\n      <th>6</th>\n      <td>威化饼干</td>\n      <td>5.235</td>\n      <td>148盒</td>\n      <td>广东佛山仓</td>\n    </tr>\n    <tr>\n      <th>7</th>\n      <td>火腿肠</td>\n      <td>33.736</td>\n      <td>28件</td>\n      <td>广东佛山仓</td>\n    </tr>\n  </tbody>\n</table>\n</div>"
     },
     "metadata": {},
     "execution_count": 6
    }
   ],
   "source": [
    "# 修改 goods_df 的列名\n",
    "goods_df.columns = ['名称', '单价', '库存', '地址']\n",
    "goods_df"
   ]
  },
  {
   "cell_type": "code",
   "execution_count": 7,
   "metadata": {},
   "outputs": [
    {
     "output_type": "execute_result",
     "data": {
      "text/plain": [
       "    姓名  年龄      公司\n",
       "0  南大川  27  闪光科技公司\n",
       "1  陈知枫  25  闪光科技公司"
      ],
      "text/html": "<div>\n<style scoped>\n    .dataframe tbody tr th:only-of-type {\n        vertical-align: middle;\n    }\n\n    .dataframe tbody tr th {\n        vertical-align: top;\n    }\n\n    .dataframe thead th {\n        text-align: right;\n    }\n</style>\n<table border=\"1\" class=\"dataframe\">\n  <thead>\n    <tr style=\"text-align: right;\">\n      <th></th>\n      <th>姓名</th>\n      <th>年龄</th>\n      <th>公司</th>\n    </tr>\n  </thead>\n  <tbody>\n    <tr>\n      <th>0</th>\n      <td>南大川</td>\n      <td>27</td>\n      <td>闪光科技公司</td>\n    </tr>\n    <tr>\n      <th>1</th>\n      <td>陈知枫</td>\n      <td>25</td>\n      <td>闪光科技公司</td>\n    </tr>\n  </tbody>\n</table>\n</div>"
     },
     "metadata": {},
     "execution_count": 7
    }
   ],
   "source": [
    "# 设置一个 DataFrame 对象的数据\n",
    "peoples_df = pd.DataFrame({'name': ['南大川', '陈知枫'], 'age': ['27', '25'], 'company': ['闪光科技公司', '闪光科技公司']})\n",
    "\n",
    "# 将 peoples_df 的列名分别改为\"姓名\"、\"年龄\"、\"公司\"\n",
    "\n",
    "peoples_df.columns = ['姓名','年龄','公司']\n",
    "# 将 peoples_df 的列名分别改为\"姓名\"、\"年龄\"、\"公司\"\n",
    "peoples_df.columns = ['姓名', '年龄', '公司']\n",
    "peoples_df"
   ]
  },
  {
   "cell_type": "code",
   "execution_count": 9,
   "metadata": {},
   "outputs": [
    {
     "output_type": "execute_result",
     "data": {
      "text/plain": [
       "6     5.235\n",
       "2     7.385\n",
       "7    33.736\n",
       "3    34.823\n",
       "5    45.750\n",
       "1    58.755\n",
       "4    62.648\n",
       "0    77.675\n",
       "Name: 单价, dtype: float64"
      ]
     },
     "metadata": {},
     "execution_count": 9
    }
   ],
   "source": [
    "# 依照【单价】列的数据进行排序\n",
    "sorted_goods = newgoods_df.sort_values(by='单价')\n",
    "sorted_goods\n",
    "\n",
    "# 提取【单价】列的数据进行排序\n",
    "newgoods_df['单价'].sort_values()"
   ]
  },
  {
   "cell_type": "code",
   "execution_count": 10,
   "metadata": {},
   "outputs": [
    {
     "output_type": "execute_result",
     "data": {
      "text/plain": [
       "     名称      单价    库存     地址\n",
       "0  威化饼干   5.235  148盒  广东佛山仓\n",
       "1  威化饼干   7.385  285盒  广西南宁仓\n",
       "2   火腿肠  33.736   28件  广东佛山仓\n",
       "3   火腿肠  34.823   20件  广西柳州仓\n",
       "4    牛奶  45.750   12箱  广西柳州仓\n",
       "5    牛奶  58.755   40箱  广东揭阳仓\n",
       "6   巧克力  62.648   30箱  广东揭阳仓\n",
       "7   巧克力  77.675   47箱  广东佛山仓"
      ],
      "text/html": "<div>\n<style scoped>\n    .dataframe tbody tr th:only-of-type {\n        vertical-align: middle;\n    }\n\n    .dataframe tbody tr th {\n        vertical-align: top;\n    }\n\n    .dataframe thead th {\n        text-align: right;\n    }\n</style>\n<table border=\"1\" class=\"dataframe\">\n  <thead>\n    <tr style=\"text-align: right;\">\n      <th></th>\n      <th>名称</th>\n      <th>单价</th>\n      <th>库存</th>\n      <th>地址</th>\n    </tr>\n  </thead>\n  <tbody>\n    <tr>\n      <th>0</th>\n      <td>威化饼干</td>\n      <td>5.235</td>\n      <td>148盒</td>\n      <td>广东佛山仓</td>\n    </tr>\n    <tr>\n      <th>1</th>\n      <td>威化饼干</td>\n      <td>7.385</td>\n      <td>285盒</td>\n      <td>广西南宁仓</td>\n    </tr>\n    <tr>\n      <th>2</th>\n      <td>火腿肠</td>\n      <td>33.736</td>\n      <td>28件</td>\n      <td>广东佛山仓</td>\n    </tr>\n    <tr>\n      <th>3</th>\n      <td>火腿肠</td>\n      <td>34.823</td>\n      <td>20件</td>\n      <td>广西柳州仓</td>\n    </tr>\n    <tr>\n      <th>4</th>\n      <td>牛奶</td>\n      <td>45.750</td>\n      <td>12箱</td>\n      <td>广西柳州仓</td>\n    </tr>\n    <tr>\n      <th>5</th>\n      <td>牛奶</td>\n      <td>58.755</td>\n      <td>40箱</td>\n      <td>广东揭阳仓</td>\n    </tr>\n    <tr>\n      <th>6</th>\n      <td>巧克力</td>\n      <td>62.648</td>\n      <td>30箱</td>\n      <td>广东揭阳仓</td>\n    </tr>\n    <tr>\n      <th>7</th>\n      <td>巧克力</td>\n      <td>77.675</td>\n      <td>47箱</td>\n      <td>广东佛山仓</td>\n    </tr>\n  </tbody>\n</table>\n</div>"
     },
     "metadata": {},
     "execution_count": 10
    }
   ],
   "source": [
    "# 重置数据 sorted_goods 的行索引\n",
    "reset_goods = sorted_goods.reset_index(drop=True)\n",
    "reset_goods"
   ]
  },
  {
   "cell_type": "code",
   "execution_count": 11,
   "metadata": {},
   "outputs": [
    {
     "output_type": "execute_result",
     "data": {
      "text/plain": [
       "     名称     单价    库存     地址\n",
       "0  威化饼干   5.24  148盒  广东佛山仓\n",
       "1  威化饼干   7.38  285盒  广西南宁仓\n",
       "2   火腿肠  33.74   28件  广东佛山仓\n",
       "3   火腿肠  34.82   20件  广西柳州仓\n",
       "4    牛奶  45.75   12箱  广西柳州仓\n",
       "5    牛奶  58.76   40箱  广东揭阳仓\n",
       "6   巧克力  62.65   30箱  广东揭阳仓\n",
       "7   巧克力  77.68   47箱  广东佛山仓"
      ],
      "text/html": "<div>\n<style scoped>\n    .dataframe tbody tr th:only-of-type {\n        vertical-align: middle;\n    }\n\n    .dataframe tbody tr th {\n        vertical-align: top;\n    }\n\n    .dataframe thead th {\n        text-align: right;\n    }\n</style>\n<table border=\"1\" class=\"dataframe\">\n  <thead>\n    <tr style=\"text-align: right;\">\n      <th></th>\n      <th>名称</th>\n      <th>单价</th>\n      <th>库存</th>\n      <th>地址</th>\n    </tr>\n  </thead>\n  <tbody>\n    <tr>\n      <th>0</th>\n      <td>威化饼干</td>\n      <td>5.24</td>\n      <td>148盒</td>\n      <td>广东佛山仓</td>\n    </tr>\n    <tr>\n      <th>1</th>\n      <td>威化饼干</td>\n      <td>7.38</td>\n      <td>285盒</td>\n      <td>广西南宁仓</td>\n    </tr>\n    <tr>\n      <th>2</th>\n      <td>火腿肠</td>\n      <td>33.74</td>\n      <td>28件</td>\n      <td>广东佛山仓</td>\n    </tr>\n    <tr>\n      <th>3</th>\n      <td>火腿肠</td>\n      <td>34.82</td>\n      <td>20件</td>\n      <td>广西柳州仓</td>\n    </tr>\n    <tr>\n      <th>4</th>\n      <td>牛奶</td>\n      <td>45.75</td>\n      <td>12箱</td>\n      <td>广西柳州仓</td>\n    </tr>\n    <tr>\n      <th>5</th>\n      <td>牛奶</td>\n      <td>58.76</td>\n      <td>40箱</td>\n      <td>广东揭阳仓</td>\n    </tr>\n    <tr>\n      <th>6</th>\n      <td>巧克力</td>\n      <td>62.65</td>\n      <td>30箱</td>\n      <td>广东揭阳仓</td>\n    </tr>\n    <tr>\n      <th>7</th>\n      <td>巧克力</td>\n      <td>77.68</td>\n      <td>47箱</td>\n      <td>广东佛山仓</td>\n    </tr>\n  </tbody>\n</table>\n</div>"
     },
     "metadata": {},
     "execution_count": 11
    }
   ],
   "source": [
    "# 四舍五入\n",
    "reset_goods['单价'] = round(reset_goods['单价'], 2)\n",
    "reset_goods"
   ]
  },
  {
   "cell_type": "code",
   "execution_count": 12,
   "metadata": {},
   "outputs": [],
   "source": [
    "# agg() 方法 对【库存】列的数据进行切片处理,只写函数名，不需要写参数\n",
    "# 有时候 需要我们将每个数据的单位切除后，才能进行库存量的求和。\n",
    "def new_func(data):\n",
    "    number = data[:-1]\n",
    "    return int(number) "
   ]
  },
  {
   "cell_type": "code",
   "execution_count": 13,
   "metadata": {},
   "outputs": [
    {
     "output_type": "execute_result",
     "data": {
      "text/plain": [
       "     名称     单价   库存     地址\n",
       "0  威化饼干   5.24  148  广东佛山仓\n",
       "1  威化饼干   7.38  285  广西南宁仓\n",
       "2   火腿肠  33.74   28  广东佛山仓\n",
       "3   火腿肠  34.82   20  广西柳州仓\n",
       "4    牛奶  45.75   12  广西柳州仓\n",
       "5    牛奶  58.76   40  广东揭阳仓\n",
       "6   巧克力  62.65   30  广东揭阳仓\n",
       "7   巧克力  77.68   47  广东佛山仓"
      ],
      "text/html": "<div>\n<style scoped>\n    .dataframe tbody tr th:only-of-type {\n        vertical-align: middle;\n    }\n\n    .dataframe tbody tr th {\n        vertical-align: top;\n    }\n\n    .dataframe thead th {\n        text-align: right;\n    }\n</style>\n<table border=\"1\" class=\"dataframe\">\n  <thead>\n    <tr style=\"text-align: right;\">\n      <th></th>\n      <th>名称</th>\n      <th>单价</th>\n      <th>库存</th>\n      <th>地址</th>\n    </tr>\n  </thead>\n  <tbody>\n    <tr>\n      <th>0</th>\n      <td>威化饼干</td>\n      <td>5.24</td>\n      <td>148</td>\n      <td>广东佛山仓</td>\n    </tr>\n    <tr>\n      <th>1</th>\n      <td>威化饼干</td>\n      <td>7.38</td>\n      <td>285</td>\n      <td>广西南宁仓</td>\n    </tr>\n    <tr>\n      <th>2</th>\n      <td>火腿肠</td>\n      <td>33.74</td>\n      <td>28</td>\n      <td>广东佛山仓</td>\n    </tr>\n    <tr>\n      <th>3</th>\n      <td>火腿肠</td>\n      <td>34.82</td>\n      <td>20</td>\n      <td>广西柳州仓</td>\n    </tr>\n    <tr>\n      <th>4</th>\n      <td>牛奶</td>\n      <td>45.75</td>\n      <td>12</td>\n      <td>广西柳州仓</td>\n    </tr>\n    <tr>\n      <th>5</th>\n      <td>牛奶</td>\n      <td>58.76</td>\n      <td>40</td>\n      <td>广东揭阳仓</td>\n    </tr>\n    <tr>\n      <th>6</th>\n      <td>巧克力</td>\n      <td>62.65</td>\n      <td>30</td>\n      <td>广东揭阳仓</td>\n    </tr>\n    <tr>\n      <th>7</th>\n      <td>巧克力</td>\n      <td>77.68</td>\n      <td>47</td>\n      <td>广东佛山仓</td>\n    </tr>\n  </tbody>\n</table>\n</div>"
     },
     "metadata": {},
     "execution_count": 13
    }
   ],
   "source": [
    "reset_goods['库存'] = reset_goods['库存'].agg(new_func)\n",
    "reset_goods"
   ]
  },
  {
   "cell_type": "code",
   "execution_count": 15,
   "metadata": {},
   "outputs": [
    {
     "output_type": "execute_result",
     "data": {
      "text/plain": [
       "名称\n",
       "威化饼干     6.310\n",
       "巧克力     70.165\n",
       "火腿肠     34.280\n",
       "牛奶      52.255\n",
       "Name: 单价, dtype: float64"
      ]
     },
     "metadata": {},
     "execution_count": 15
    }
   ],
   "source": [
    "reset_goods.groupby('名称')['单价'].mean()"
   ]
  },
  {
   "cell_type": "code",
   "execution_count": 18,
   "metadata": {},
   "outputs": [
    {
     "output_type": "execute_result",
     "data": {
      "text/plain": [
       "          单价   库存\n",
       "名称               \n",
       "威化饼干   6.310  433\n",
       "巧克力   70.165   77\n",
       "火腿肠   34.280   48\n",
       "牛奶    52.255   52"
      ],
      "text/html": "<div>\n<style scoped>\n    .dataframe tbody tr th:only-of-type {\n        vertical-align: middle;\n    }\n\n    .dataframe tbody tr th {\n        vertical-align: top;\n    }\n\n    .dataframe thead th {\n        text-align: right;\n    }\n</style>\n<table border=\"1\" class=\"dataframe\">\n  <thead>\n    <tr style=\"text-align: right;\">\n      <th></th>\n      <th>单价</th>\n      <th>库存</th>\n    </tr>\n    <tr>\n      <th>名称</th>\n      <th></th>\n      <th></th>\n    </tr>\n  </thead>\n  <tbody>\n    <tr>\n      <th>威化饼干</th>\n      <td>6.310</td>\n      <td>433</td>\n    </tr>\n    <tr>\n      <th>巧克力</th>\n      <td>70.165</td>\n      <td>77</td>\n    </tr>\n    <tr>\n      <th>火腿肠</th>\n      <td>34.280</td>\n      <td>48</td>\n    </tr>\n    <tr>\n      <th>牛奶</th>\n      <td>52.255</td>\n      <td>52</td>\n    </tr>\n  </tbody>\n</table>\n</div>"
     },
     "metadata": {},
     "execution_count": 18
    }
   ],
   "source": [
    "dict_2 = {\n",
    "    '单价':'mean',\n",
    "    '库存':'sum'\n",
    "}\n",
    "# 同时计算各食品的平均单价和总库存量\n",
    "reset_goods.groupby('名称').agg(dict_2)"
   ]
  },
  {
   "cell_type": "code",
   "execution_count": 33,
   "metadata": {},
   "outputs": [
    {
     "output_type": "execute_result",
     "data": {
      "text/plain": [
       "     单价  数量\n",
       "食品名        \n",
       "擂茶   12  35\n",
       "水晶饺  10   0\n",
       "肚脐饼   2  37"
      ],
      "text/html": "<div>\n<style scoped>\n    .dataframe tbody tr th:only-of-type {\n        vertical-align: middle;\n    }\n\n    .dataframe tbody tr th {\n        vertical-align: top;\n    }\n\n    .dataframe thead th {\n        text-align: right;\n    }\n</style>\n<table border=\"1\" class=\"dataframe\">\n  <thead>\n    <tr style=\"text-align: right;\">\n      <th></th>\n      <th>单价</th>\n      <th>数量</th>\n    </tr>\n    <tr>\n      <th>食品名</th>\n      <th></th>\n      <th></th>\n    </tr>\n  </thead>\n  <tbody>\n    <tr>\n      <th>擂茶</th>\n      <td>12</td>\n      <td>35</td>\n    </tr>\n    <tr>\n      <th>水晶饺</th>\n      <td>10</td>\n      <td>0</td>\n    </tr>\n    <tr>\n      <th>肚脐饼</th>\n      <td>2</td>\n      <td>37</td>\n    </tr>\n  </tbody>\n</table>\n</div>"
     },
     "metadata": {},
     "execution_count": 33
    }
   ],
   "source": [
    "def replace_info(data):\n",
    "    if data == '-':\n",
    "        data = 0\n",
    "    return data\n",
    "\n",
    "# 创建一个 DataFrame 对象的数据\n",
    "foods_df = pd.DataFrame({'食品名': ['肚脐饼', '水晶饺', '擂茶', '肚脐饼', '擂茶'], '单价': [2, 10, 12, 4, 20], '数量': [20, '-', 35, 37, '-'], '城市': ['潮州', '汕尾', '梅州', '深圳', '深圳']})\n",
    "# 使用 agg() 方法对【数量】列的内容进行替换\n",
    "foods_df['数量'] = foods_df['数量'].agg(replace_info)\n",
    "# 同时计算【单价】列的最小值和【数量】列的最大值\n",
    "foods_df.groupby('食品名').agg({'单价': 'min', '数量': 'max'})"
   ]
  },
  {
   "cell_type": "code",
   "execution_count": null,
   "metadata": {},
   "outputs": [],
   "source": [
    "# 关联分析\n",
    "# 关联分析，是一门分析技术，用于发现大量数据中，各组数据之间的联系\n",
    "\n",
    "### 项 & 项集 ###\n",
    "# 0个或多个项的集合，可称为一个项集，一般用{X}的形式表示项集，k 个项组成的项集，叫 k 项集。\n",
    "# 如{薯条，可乐}（2 项集），{薯条}（1 项集）。\n",
    "\n",
    "# 支持度(Support)可以表示项集在事务中出现的概率（频率），你也可以理解成顾客对某一个项集的“支持程度”。\n",
    "# {X}的支持度 = {X}在事务中出现的次数 / 事务总数。\n",
    "\n",
    "### 频繁项集 ###\n",
    "# 我们需要人为地设定一个支持度，名为最小支持度，用于筛掉那些不符合需求的项集。\n",
    "# 被留下来的项集（≥ 最小支持度），被称为频繁项集。\n",
    "\n",
    "### 关联规则 ###\n",
    "# 有了频繁项集，就可以生产关联规则了\n",
    "# 数据之间的联系，我们用关联规则来表示，表达式为：{X}→{Y}（X 和 Y 之间不存在相同项）\n",
    "# 规则前面的项集叫前件，把规则后面的项集叫后件\n",
    "\n",
    "### 置信度(Confidence) ###\n",
    "# 置信度(Confidence)可用于衡量关联规则的可靠程度,\n",
    "# 表示在前件出现的情况下，后件出现的概率。一般来说，概率越高，规则的可靠性越强\n",
    "# 关联规则{X}→{Y}的置信度 = {X，Y}的支持度 / {X}的支持度\n",
    "\n",
    "### 最小置信度 ###\n",
    "# 在实际业务中，也需要人为地设定置信度，名为最小置信度，用于筛掉一些不符合需求的关联规则。\n",
    "# 被留下来的关联规则（ ≥ 最小置信度），叫做强关联规则\n",
    "\n",
    "### 提升度(Lift) ###\n",
    "# {X}→{Y}的提升度 = {X}→{Y}的置信度 / {Y}的支持度，\n",
    "# 意思是评估 X 的出现，对 Y 出现的影响有多大。\n",
    "# Lift > 1: 表示前件对后件是抑制关系；<1: 表示前件对后件是促进关系；=1: 不影响\n",
    "# Lift(X->Y) = {X,Y}置信度 / {Y}支持度\n",
    "\n",
    "### 总结 ###\n",
    "# {X,Y}置信度 = {X，Y}的支持度 / {X}的支持度\n",
    "# Lift(X->Y) = {X,Y}置信度 / {Y}支持度\n",
    "# 满足最小置信度的关联规则称为强关联规则\n",
    "# 满足最小支持度的项集称为频繁项集\n",
    "# 大多数的关联分析工作，主要任务就是生成频繁项集和关联规则，从而发现隐藏的关联关系\n",
    "# 个3项（k 项）的数据集，能产生7（2^k - 1）个非空频繁项集。？？？\n",
    "# 一个3项（k 项）的频繁项集，可产生6（2^k - 2）个关联规则。\n",
    "\n",
    "\n",
    "# Apriori 算法 #\n",
    "# 使用步骤\n",
    "# 1. 确定最小支持度和最小置信度\n",
    "# 2. 找出频繁项集和强关联规则\n",
    "\n"
   ]
  },
  {
   "cell_type": "code",
   "execution_count": 3,
   "metadata": {},
   "outputs": [
    {
     "output_type": "stream",
     "name": "stdout",
     "text": [
      "['可乐']->['奶茶'] 0.25 0.25 1.0\n['奶茶']->['可乐'] 0.25 1.0 1.0\n['可乐']->['汉堡'] 0.5 0.5 1.0\n['汉堡']->['可乐'] 0.5 1.0 1.0\n['可乐']->['薯条'] 0.75 0.75 1.0\n['薯条']->['可乐'] 0.75 1.0 1.0\n['奶茶']->['薯条'] 0.25 1.0 1.333\n['薯条']->['奶茶'] 0.25 0.333 1.333\n['汉堡']->['薯条'] 0.25 0.5 0.667\n['薯条']->['汉堡'] 0.25 0.333 0.667\n['可乐']->['薯条', '奶茶'] 0.25 0.25 1.0\n['奶茶']->['可乐', '薯条'] 0.25 1.0 1.333\n['薯条']->['可乐', '奶茶'] 0.25 0.333 1.333\n['可乐', '奶茶']->['薯条'] 0.25 1.0 1.333\n['可乐', '薯条']->['奶茶'] 0.25 0.333 1.333\n['薯条', '奶茶']->['可乐'] 0.25 1.0 1.0\n['可乐']->['薯条', '汉堡'] 0.25 0.25 1.0\n['汉堡']->['可乐', '薯条'] 0.25 0.5 0.667\n['薯条']->['可乐', '汉堡'] 0.25 0.333 0.667\n['可乐', '汉堡']->['薯条'] 0.25 0.5 0.667\n['可乐', '薯条']->['汉堡'] 0.25 0.333 0.667\n['薯条', '汉堡']->['可乐'] 0.25 1.0 1.0\n"
     ]
    }
   ],
   "source": [
    "from apyori import apriori\n",
    "orders = [['薯条', '可乐'], ['薯条', '可乐', '奶茶'], ['汉堡', '薯条', '可乐'], ['汉堡', '可乐']]\n",
    "results = apriori(orders, min_support=0.2, min_confifdence=0.7)\n",
    "for result in results:\n",
    "    support = round(result.support, 3)\n",
    "\n",
    "    for rule in result.ordered_statistics:\n",
    "        head_set = list(rule.items_base)\n",
    "        tail_set = list(rule.items_add)\n",
    "\n",
    "        if head_set == []:\n",
    "            continue\n",
    "\n",
    "        related_catogory = str(head_set) + '->' + str(tail_set)\n",
    "\n",
    "        confidence = round(rule.confidence, 3)\n",
    "        lift = round(rule.lift, 3)\n",
    "\n",
    "        print(related_catogory, support, confidence, lift)\n"
   ]
  },
  {
   "cell_type": "code",
   "execution_count": 5,
   "metadata": {},
   "outputs": [
    {
     "output_type": "stream",
     "name": "stdout",
     "text": [
      "['油条']->['豆浆'] 0.6 1.0 1.25\n['豆浆']->['油条'] 0.6 0.75 1.25\n"
     ]
    }
   ],
   "source": [
    "breakfast = [['豆浆', '油条', '麻球'], ['豆浆', '热干面', '面包'], ['豆浆', '肠粉', '油条'], ['咖啡', '面包'], ['豆浆', '油条']]\n",
    "results = apriori(breakfast, min_support=0.5)\n",
    "\n",
    "for result in results:\n",
    "    support = round(result.support, 2)\n",
    "\n",
    "    for rule in result.ordered_statistics:\n",
    "        head_set = list(rule.items_base)\n",
    "        tail_set = list(rule.items_add)\n",
    "\n",
    "        if head_set == []:\n",
    "            continue\n",
    "\n",
    "        related_catogory = str(head_set) + '->' + str(tail_set)\n",
    "        lift = round(rule.lift, 2)\n",
    "        confidence = round(rule.confidence, 2)\n",
    "\n",
    "        print(related_catogory, support, confidence, lift)"
   ]
  },
  {
   "cell_type": "code",
   "execution_count": null,
   "metadata": {},
   "outputs": [],
   "source": []
  }
 ]
}