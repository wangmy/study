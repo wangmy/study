{
 "metadata": {
  "language_info": {
   "codemirror_mode": {
    "name": "ipython",
    "version": 3
   },
   "file_extension": ".py",
   "mimetype": "text/x-python",
   "name": "python",
   "nbconvert_exporter": "python",
   "pygments_lexer": "ipython3",
   "version": "3.7.7"
  },
  "orig_nbformat": 4,
  "kernelspec": {
   "name": "python3",
   "display_name": "Python 3.7.7 64-bit ('python')"
  },
  "interpreter": {
   "hash": "df955ce39d0f31d56d4bb2fe0a613e5326ba60723fd33d8303a3aede8f65715c"
  }
 },
 "nbformat": 4,
 "nbformat_minor": 2,
 "cells": [
  {
   "cell_type": "code",
   "execution_count": 1,
   "metadata": {},
   "outputs": [
    {
     "output_type": "execute_result",
     "data": {
      "text/plain": [
       "   年龄  岗位  年购买量\n",
       "0  23  客服    10\n",
       "1  22  运营    15\n",
       "2  21  公关     8"
      ],
      "text/html": "<div>\n<style scoped>\n    .dataframe tbody tr th:only-of-type {\n        vertical-align: middle;\n    }\n\n    .dataframe tbody tr th {\n        vertical-align: top;\n    }\n\n    .dataframe thead th {\n        text-align: right;\n    }\n</style>\n<table border=\"1\" class=\"dataframe\">\n  <thead>\n    <tr style=\"text-align: right;\">\n      <th></th>\n      <th>年龄</th>\n      <th>岗位</th>\n      <th>年购买量</th>\n    </tr>\n  </thead>\n  <tbody>\n    <tr>\n      <th>0</th>\n      <td>23</td>\n      <td>客服</td>\n      <td>10</td>\n    </tr>\n    <tr>\n      <th>1</th>\n      <td>22</td>\n      <td>运营</td>\n      <td>15</td>\n    </tr>\n    <tr>\n      <th>2</th>\n      <td>21</td>\n      <td>公关</td>\n      <td>8</td>\n    </tr>\n  </tbody>\n</table>\n</div>"
     },
     "metadata": {},
     "execution_count": 1
    }
   ],
   "source": [
    "import pandas as pd\n",
    "dict1 = {'年龄': [23, 22, 21], '岗位': ['客服', '运营', '公关'], '年购买量': [10, 15, 8]}\n",
    "job_df = pd.DataFrame(dict1)\n",
    "job_df"
   ]
  },
  {
   "cell_type": "code",
   "execution_count": null,
   "metadata": {},
   "outputs": [],
   "source": [
    "# \n",
    "goods_info = [\n",
    "    ['巧克力', 77.675, '47箱', '广东佛山仓'],\n",
    "    ['牛奶', 58.755, '40箱', '广东揭阳仓'],\n",
    "    ['威化饼干', 7.385, '285盒', '广西南宁仓'],\n",
    "    ['火腿肠', 34.823, '20件', '广西柳州仓'],\n",
    "    ['巧克力', 62.648, '30箱', '广东揭阳仓'],\n",
    "    ['牛奶', 45.75, '12箱', '广西柳州仓'],\n",
    "    ['威化饼干', 5.235, '148盒', '广东佛山仓'],\n",
    "    ['火腿肠', 33.736, '28件', '广东佛山仓']\n",
    "]\n",
    "goods_df = pd.DataFrame(good_info)\n",
    "goods_df\n",
    "\n",
    "# "
   ]
  }
 ]
}