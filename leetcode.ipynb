{
    "cells": [
        {
            "cell_type": "markdown",
            "metadata": {},
            "source": [
                "# 数组和字符串"
            ]
        },
        {
            "cell_type": "code",
            "execution_count": null,
            "metadata": {},
            "outputs": [],
            "source": [
                "\n",
                "from typing import List\n",
                "\n",
                "## 寻找数据的中心索引\n",
                "def findMiddleIndex(nums: List[int]) -> int:\n",
                "    left = 0\n",
                "    n_len = len(nums)\n",
                "    asum = sum(nums)\n",
                "    for i in range(n_len):\n",
                "        if asum - nums[i] - left == left:\n",
                "            return i\n",
                "        left += nums[i]\n",
                "    return -1\n",
                "\n",
                "print(findMiddleIndex([1, -1, 4]))"
            ]
        },
        {
            "cell_type": "code",
            "execution_count": 31,
            "metadata": {},
            "outputs": [
                {
                    "name": "stdout",
                    "output_type": "stream",
                    "text": [
                        "4\n"
                    ]
                }
            ],
            "source": [
                "## 搜索掺入位置, 要求事件复杂度为O(logN)\n",
                "## 二分\n",
                "def searchInsert(nums: List[int], target: int) -> int:\n",
                "    if len(nums) < 1: return 0\n",
                "    left = 0\n",
                "    right = len(nums) - 1\n",
                "    while (left <= right):\n",
                "        mid = left + (right - left) // 2 #(int)((right-left) / 2)\n",
                "        if nums[mid] == target:\n",
                "            return mid\n",
                "        elif nums[mid] < target:\n",
                "            left = mid + 1\n",
                "        else:\n",
                "            right = mid - 1\n",
                "    return right + 1  \n",
                "print(searchInsert([1, 3, 5, 6], 7))\n",
                "\n",
                "\n",
                "\n"
            ]
        },
        {
            "cell_type": "code",
            "execution_count": 57,
            "metadata": {},
            "outputs": [
                {
                    "name": "stdout",
                    "output_type": "stream",
                    "text": [
                        "[0, 1, 3, 6, 8, 9, 10]\n",
                        "['a', 'b', 'e', 'g', 't']\n",
                        "['a', 'b', 'e', 'g', 't']\n",
                        "[('l', 1), ('o', 2), ('v', 3), ('e', 4), ('!', 5)]\n",
                        "[[1, 3], [7, 10], [2, 6]]\n",
                        "merges [[1, 6], [7, 10]]\n"
                    ]
                }
            ],
            "source": [
                "## 合并区间\n",
                "\n",
                "## sorted key = lambda\n",
                "listA = [3, 6, 1, 0, 10, 8, 9]\n",
                "print(sorted(listA))\n",
                "\n",
                "listB = ['g', 'e', 't', 'b', 'a']\n",
                "print(sorted(listB))\n",
                "print(sorted(listB, key=lambda x: x[0]))\n",
                "\n",
                "listC = [('e', 4), ('o', 2), ('!', 5), ('v', 3), ('l', 1)]\n",
                "listC = sorted(listC, key=lambda y: y[1])\n",
                "print(listC)\n",
                "\n",
                "listD = [[1, 3], [7, 10], [2, 6]]\n",
                "# listD[-1][-1] = 13\n",
                "print(listD)\n",
                "\n",
                "## 合并区间\n",
                "def mergeNums(nums: List[List[int]]):\n",
                "    nums = sorted(nums, key=lambda x: x[0])\n",
                "    merges = list()\n",
                "    for i in range(len(nums)):\n",
                "        if not merges or merges[-1][-1] < nums[i][0]:\n",
                "            merges.append(nums[i])\n",
                "        else:\n",
                "            merges[-1][-1] = max(merges[-1][-1], nums[i][-1])\n",
                "    print(\"merges %s\" %(merges))\n",
                "mergeNums(listD)\n"
            ]
        },
        {
            "cell_type": "code",
            "execution_count": 78,
            "metadata": {},
            "outputs": [
                {
                    "name": "stdout",
                    "output_type": "stream",
                    "text": [
                        "🐯🐯 旋转矩阵 🐯🐯\n",
                        "rotate init [[1, 2, 3, 4, 5], [6, 7, 8, 9, 10], [11, 12, 13, 14, 15], [16, 17, 18, 19, 20], [21, 22, 23, 24, 25]]\n",
                        "🐯🐯 i: 0 🐯🐯\n",
                        "🐯🐯 i: 1 🐯🐯\n",
                        "🐯 j: 0 🐯\n",
                        "🐯🐯 i: 2 🐯🐯\n",
                        "🐯 j: 0 🐯\n",
                        "🐯 j: 1 🐯\n",
                        "🐯🐯 i: 3 🐯🐯\n",
                        "🐯 j: 0 🐯\n",
                        "🐯 j: 1 🐯\n",
                        "🐯 j: 2 🐯\n",
                        "🐯🐯 i: 4 🐯🐯\n",
                        "🐯 j: 0 🐯\n",
                        "🐯 j: 1 🐯\n",
                        "🐯 j: 2 🐯\n",
                        "🐯 j: 3 🐯\n",
                        "rotate result [[21, 16, 11, 6, 1], [22, 17, 12, 7, 2], [23, 18, 13, 8, 3], [24, 19, 14, 9, 4], [25, 20, 15, 10, 5]]\n"
                    ]
                }
            ],
            "source": [
                "\n",
                "## 旋转矩阵\n",
                "print(\"🐯🐯 旋转矩阵 🐯🐯\")\n",
                "def rotate(matrix: List[List[int]]) -> None:\n",
                "    print(\"rotate init %s\" %(matrix))\n",
                "    n = len(matrix)\n",
                "    # 对称轴 & 水平 翻转\n",
                "    # 逆时针\n",
                "    # for i in range(n-1, -1, -1):\n",
                "    # 顺时针\n",
                "    for i in range(n):\n",
                "        print(\"🐯🐯 i: %d 🐯🐯\" %(i))\n",
                "        for j in range(i):\n",
                "            print(\"🐯 j: %d 🐯\" %(j))\n",
                "            matrix[i][j], matrix[j][i] = matrix[j][i], matrix[i][j]\n",
                "    \n",
                "    for line in matrix:\n",
                "        line.reverse()\n",
                "    print(\"rotate result %s\" %(matrix))\n",
                "\n",
                "matrix = [[1,2,3,4,5],[6,7,8,9,10],[11,12,13,14,15],[16,17,18,19,20], [21,22,23,24,25]]\n",
                "rotate(matrix)\n",
                "\n"
            ]
        },
        {
            "cell_type": "code",
            "execution_count": 79,
            "metadata": {},
            "outputs": [
                {
                    "name": "stdout",
                    "output_type": "stream",
                    "text": [
                        "🐯 old matrix [[1, 2, 3, 0, 5], [0, 7, 8, 9, 10], [11, 12, 13, 14, 15], [16, 17, 18, 19, 20], [21, 22, 23, 24, 25]]\n",
                        "🐯 new matrix [[0, 0, 0, 0, 0], [0, 0, 0, 0, 0], [0, 12, 13, 0, 15], [0, 17, 18, 0, 20], [0, 22, 23, 0, 25]]\n"
                    ]
                }
            ],
            "source": [
                "## 零矩阵\n",
                "def setZeroes(matrix: List[List[int]]) -> None:\n",
                "    print(\"🐯 old matrix %s\" %(matrix))\n",
                "    n = len(matrix)\n",
                "    m = len(matrix[0])\n",
                "    row = [0] * n\n",
                "    column = [0] * m\n",
                "    # 标记为0 的行和列\n",
                "    for i in range(n):\n",
                "        for j in range(m):\n",
                "            if matrix[i][j] == 0:\n",
                "                row[i] = 1\n",
                "                column[j] = 1\n",
                "    # set 0\n",
                "    for i in range(n):\n",
                "        for j in range(m):\n",
                "            if row[i] == 1 or column[j] == 1:\n",
                "                matrix[i][j] = 0\n",
                "    print(\"🐯 new matrix %s\" %(matrix))\n",
                "\n",
                "setZeroes([[1,2,3,0,5],[0,7,8,9,10],[11,12,13,14,15],[16,17,18,19,20], [21,22,23,24,25]])"
            ]
        },
        {
            "cell_type": "code",
            "execution_count": null,
            "metadata": {},
            "outputs": [],
            "source": [
                "from typing import List\n",
                "## 对角线遍历\n",
                "def findDiagonalOrder(matrix: [List[List[int]]]) -> List[int]:\n",
                "    if not matrix:\n",
                "        return []\n",
                "    row = len(matrix)\n",
                "    col = len(matrix[0])\n",
                "    tot = row + col - 1 # 对角线条数\n",
                "    res = []\n",
                "    r, c = 0, 0 # r为横坐标，c为纵坐标，初始值为0\n",
                "    # 遍历对角线\n",
                "    for i in range(tot):\n",
                "        # 当对角线编号为偶数时，对角线右上遍历\n",
                "        if i % 2 == 0:\n",
                "            # 右上遍历时，只要横坐标不小0（不超过上面的边界），且纵坐标小于行数（不超过右边界）\n",
                "            while r >= 0 and c < col:\n",
                "                res.append(matrix[r][c])\n",
                "                # 右上运动，列加，行减\n",
                "                r -= 1\n",
                "                c += 1\n",
                "            # 此时 r行 < 0 了，超出了边界，\n",
                "            if c < col:\n",
                "                # 如果列还未超出，把行拉回来\n",
                "                r += 1\n",
                "            else:\n",
                "                # 如果列超出，行需要拉回两步\n",
                "                r += 2\n",
                "                c -= 1\n",
                "        else:\n",
                "            while c >= 0 and r < row:\n",
                "                res.append(matrix[r][c])\n",
                "                r += 1\n",
                "                c -= 1\n",
                "            # 此时 列c < 0 了，超出了边界，\n",
                "            if r < row:\n",
                "                c += 1\n",
                "            else:\n",
                "                c += 2\n",
                "                r -= 1\n",
                "    print(res)\n",
                "    return res\n",
                "\n",
                "\n",
                "\n",
                "# 对角线遍历\n",
                "# 可以推导每个对角线的横纵坐标范围\n",
                "# 已知 x + y = k 和 0 <= x < r 还有 0 <= y < c\n",
                "# 0 <= x < r, 0 <= k - x < c\n",
                "# 0 <= x < r, k - c < x <= k\n",
                "def findDiagonalOrder2(mat: List[List[int]]) -> List[int]:\n",
                "        r, c, ans = len(mat), len(mat[0]), []\n",
                "        for k in range(r + c - 1):\n",
                "            \n",
                "            # k 对角线编号\n",
                "            if not k % 2: # 偶数\n",
                "                ans += [mat[x][k-x] for x in range(min(r - 1, k), max(-1, k - c), -1)]\n",
                "            else:\n",
                "                ans += [mat[x][k-x] for x in range(max(0, k - c + 1), min(k + 1, r))]\n",
                "        return ans\n",
                "\n",
                "# findDiagonalOrder2([[1,2,3,4],[5,6,7,8],[9,10,11,12],[13,14,15,16]])\n",
                "findDiagonalOrder([[1,2,3,4,5],[6,7],[8],[9,10,11],[12,13,14,15,16]])"
            ]
        },
        {
            "cell_type": "code",
            "execution_count": 40,
            "metadata": {},
            "outputs": [
                {
                    "data": {
                        "text/plain": [
                            "[1, 2, 6, 8, 7, 3, 4, 9, 12, 10, 5, 11, 13, 14, 15, 16]"
                        ]
                    },
                    "execution_count": 40,
                    "metadata": {},
                    "output_type": "execute_result"
                }
            ],
            "source": [
                "# 1424 对角线遍历, 都是右上遍历\n",
                "def findDiagonalOrder3(nums: List[List[int]]) -> List[int]:\n",
                "    if not nums: return []\n",
                "    rec = []\n",
                "    for i in range(len(nums)):\n",
                "        for j in range(len(nums[i])):\n",
                "            if i+j < len(rec):\n",
                "                rec[i+j].append(nums[i][j])\n",
                "            else:\n",
                "                rec.append([])\n",
                "                rec[i+j].append(nums[i][j])\n",
                "\n",
                "    res = []\n",
                "    i = 0\n",
                "    for sub_list in rec:\n",
                "        if not i % 2:\n",
                "            res += sub_list[::-1] \n",
                "        else:\n",
                "            res += sub_list[::]\n",
                "        i += 1\n",
                "    return res\n",
                "# findDiagonalOrder3([[1,2,3,4,5],[6,7],[8],[9,10,11],[12,13,14,15,16]])\n",
                "findDiagonalOrder3([[1,2,3],[4,5,6],[7,8,9]])"
            ]
        }
    ],
    "metadata": {
        "interpreter": {
            "hash": "aee8b7b246df8f9039afb4144a1f6fd8d2ca17a180786b69acc140d282b71a49"
        },
        "kernelspec": {
            "display_name": "Python 3.9.6 64-bit",
            "language": "python",
            "name": "python3"
        },
        "language_info": {
            "codemirror_mode": {
                "name": "ipython",
                "version": 3
            },
            "file_extension": ".py",
            "mimetype": "text/x-python",
            "name": "python",
            "nbconvert_exporter": "python",
            "pygments_lexer": "ipython3",
            "version": "3.9.6"
        },
        "orig_nbformat": 4
    },
    "nbformat": 4,
    "nbformat_minor": 2
}
